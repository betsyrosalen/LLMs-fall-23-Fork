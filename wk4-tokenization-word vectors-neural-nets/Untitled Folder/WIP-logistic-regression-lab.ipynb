{
 "cells": [
  {
   "cell_type": "markdown",
   "id": "91ec80f8",
   "metadata": {},
   "source": [
    "# This is a work in progress - do not do the lab yet!\n",
    "\n",
    "## Logistic Regression lab\n",
    "LLM's and ChatGPT | Fall 2023 | McSweeney | CUNY Graduate Center\n",
    "\n",
    "**Due:** October TBD\n",
    "\n",
    "\n",
    "### Background\n",
    "The purpose of this lab is to explore Logistic Regression in the simplest format possible. The focus is exploring how Logistic Regression works, what the output looks like, and how it is used to make classification. \n",
    "\n",
    "\n",
    "\n",
    "\n",
    "#### Notes\n",
    "\n",
    "\n",
    "#### About this dataset\n"
   ]
  },
  {
   "cell_type": "code",
   "execution_count": 1,
   "id": "465c2269",
   "metadata": {},
   "outputs": [
    {
     "name": "stdout",
     "output_type": "stream",
     "text": [
      "Collecting shap\n",
      "  Downloading shap-0.42.1-cp311-cp311-macosx_11_0_arm64.whl (460 kB)\n",
      "\u001b[2K     \u001b[90m━━━━━━━━━━━━━━━━━━━━━━━━━━━━━━━━━━━━━━━\u001b[0m \u001b[32m460.4/460.4 kB\u001b[0m \u001b[31m4.3 MB/s\u001b[0m eta \u001b[36m0:00:00\u001b[0ma \u001b[36m0:00:01\u001b[0m\n",
      "\u001b[?25hRequirement already satisfied: numpy in /Users/michellemcsweeney/anaconda3/lib/python3.11/site-packages (from shap) (1.24.3)\n",
      "Requirement already satisfied: scipy in /Users/michellemcsweeney/anaconda3/lib/python3.11/site-packages (from shap) (1.10.1)\n",
      "Requirement already satisfied: scikit-learn in /Users/michellemcsweeney/anaconda3/lib/python3.11/site-packages (from shap) (1.2.2)\n",
      "Requirement already satisfied: pandas in /Users/michellemcsweeney/anaconda3/lib/python3.11/site-packages (from shap) (1.5.3)\n",
      "Requirement already satisfied: tqdm>=4.27.0 in /Users/michellemcsweeney/anaconda3/lib/python3.11/site-packages (from shap) (4.65.0)\n",
      "Requirement already satisfied: packaging>20.9 in /Users/michellemcsweeney/anaconda3/lib/python3.11/site-packages (from shap) (23.0)\n",
      "Collecting slicer==0.0.7 (from shap)\n",
      "  Downloading slicer-0.0.7-py3-none-any.whl (14 kB)\n",
      "Requirement already satisfied: numba in /Users/michellemcsweeney/anaconda3/lib/python3.11/site-packages (from shap) (0.57.0)\n",
      "Requirement already satisfied: cloudpickle in /Users/michellemcsweeney/anaconda3/lib/python3.11/site-packages (from shap) (2.2.1)\n",
      "Requirement already satisfied: llvmlite<0.41,>=0.40.0dev0 in /Users/michellemcsweeney/anaconda3/lib/python3.11/site-packages (from numba->shap) (0.40.0)\n",
      "Requirement already satisfied: python-dateutil>=2.8.1 in /Users/michellemcsweeney/anaconda3/lib/python3.11/site-packages (from pandas->shap) (2.8.2)\n",
      "Requirement already satisfied: pytz>=2020.1 in /Users/michellemcsweeney/anaconda3/lib/python3.11/site-packages (from pandas->shap) (2022.7)\n",
      "Requirement already satisfied: joblib>=1.1.1 in /Users/michellemcsweeney/anaconda3/lib/python3.11/site-packages (from scikit-learn->shap) (1.2.0)\n",
      "Requirement already satisfied: threadpoolctl>=2.0.0 in /Users/michellemcsweeney/anaconda3/lib/python3.11/site-packages (from scikit-learn->shap) (2.2.0)\n",
      "Requirement already satisfied: six>=1.5 in /Users/michellemcsweeney/anaconda3/lib/python3.11/site-packages (from python-dateutil>=2.8.1->pandas->shap) (1.16.0)\n",
      "Installing collected packages: slicer, shap\n",
      "Successfully installed shap-0.42.1 slicer-0.0.7\n",
      "Note: you may need to restart the kernel to use updated packages.\n"
     ]
    }
   ],
   "source": [
    "#%pip install shap"
   ]
  }
 ],
 "metadata": {
  "kernelspec": {
   "display_name": "Python 3 (ipykernel)",
   "language": "python",
   "name": "python3"
  },
  "language_info": {
   "codemirror_mode": {
    "name": "ipython",
    "version": 3
   },
   "file_extension": ".py",
   "mimetype": "text/x-python",
   "name": "python",
   "nbconvert_exporter": "python",
   "pygments_lexer": "ipython3",
   "version": "3.11.3"
  }
 },
 "nbformat": 4,
 "nbformat_minor": 5
}
